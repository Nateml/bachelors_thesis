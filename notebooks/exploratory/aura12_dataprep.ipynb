{
 "cells": [
  {
   "cell_type": "code",
   "execution_count": 1,
   "metadata": {},
   "outputs": [],
   "source": [
    "import torch\n",
    "import numpy as np\n",
    "from biosppy.signals import ecg\n",
    "from torch.utils.data import DataLoader\n",
    "from load_ptbdata import load_data\n",
    "from torch.utils.data import random_split"
   ]
  },
  {
   "cell_type": "code",
   "execution_count": 2,
   "metadata": {},
   "outputs": [
    {
     "name": "stdout",
     "output_type": "stream",
     "text": [
      "Loading and converting annotation data...\n",
      "Loading diagnostic aggregation data...\n",
      "Applying diagnostic superclass...\n",
      "Loading raw signal data...\n"
     ]
    },
    {
     "data": {
      "text/plain": [
       "(21799, 1000, 6)"
      ]
     },
     "execution_count": 2,
     "metadata": {},
     "output_type": "execute_result"
    }
   ],
   "source": [
    "sampling_rate = 100\n",
    "X, Y = load_data(\"data/ptb-xl/\",\n",
    "                 sampling_rate=sampling_rate,\n",
    "                 limit=None,  # The maximum number of signals to load\n",
    "                 only_precordial_leads=True,  # Use only the precordial leads\n",
    "                 only_normal=False  # Whether to use only \"normal\" (healthy) heart beats\n",
    "                 )\n",
    "X.shape"
   ]
  },
  {
   "cell_type": "code",
   "execution_count": 7,
   "metadata": {},
   "outputs": [
    {
     "name": "stdout",
     "output_type": "stream",
     "text": [
      "Could not process 1 signals\n",
      "Remaining signals: 9513\n"
     ]
    }
   ],
   "source": [
    "all_templates = []\n",
    "valid_indices = []\n",
    "\n",
    "for sig_idx, ecg_signal in enumerate(X):\n",
    "\n",
    "    lead_templates = []\n",
    "    skip_signal = False\n",
    "\n",
    "    for lead in range(ecg_signal.shape[1]):\n",
    "\n",
    "        signal = ecg_signal[:, lead]\n",
    "        \n",
    "        try:\n",
    "            # Compute the ECG templates\n",
    "            out = ecg.ecg(signal=signal, sampling_rate=sampling_rate, show=False)\n",
    "        except:\n",
    "            skip_signal = True\n",
    "            break\n",
    "\n",
    "        templates = out['templates']\n",
    "        # mean_template = np.mean(templates, axis=0)\n",
    "        median_template = np.median(templates, axis=0)\n",
    "\n",
    "        lead_templates.append(median_template)\n",
    "        # lead_templates.append(mean_template)\n",
    "    \n",
    "    if not skip_signal:\n",
    "        # Only keep signals for which all leads could be processed successfully\n",
    "        # Sometimes certain recordings (usually the unhealthy hearbeats) break \n",
    "        # the biosppy ecg function and the templates cannot be computed, so we\n",
    "        # skip them (until I find a better way of dealing with this).\n",
    "        valid_indices.append(sig_idx)\n",
    "        all_templates.append(lead_templates)\n",
    "\n",
    "all_templates = np.array(all_templates)\n",
    "\n",
    "# Remove skipped signals from X and Y\n",
    "X_original = X\n",
    "X = X[valid_indices]\n",
    "Y = Y.iloc[valid_indices]\n",
    "\n",
    "print(f\"Could not process {len(X_original)-len(valid_indices)} signals\")\n",
    "print(f\"Remaining signals: {X.shape[0]}\") "
   ]
  },
  {
   "cell_type": "code",
   "execution_count": 10,
   "metadata": {},
   "outputs": [
    {
     "data": {
      "text/plain": [
       "(9513, 6, 60)"
      ]
     },
     "execution_count": 10,
     "metadata": {},
     "output_type": "execute_result"
    }
   ],
   "source": [
    "all_templates.shape"
   ]
  },
  {
   "cell_type": "code",
   "execution_count": 11,
   "metadata": {},
   "outputs": [
    {
     "name": "stdout",
     "output_type": "stream",
     "text": [
      "Train: (7595, 6, 60), Val: (955, 6, 60), Test: (963, 6, 60)\n"
     ]
    }
   ],
   "source": [
    "X_train = all_templates[np.where(Y.strat_fold < 9)]\n",
    "X_val = all_templates[np.where(Y.strat_fold == 9)]\n",
    "X_test = all_templates[np.where(Y.strat_fold == 10)]\n",
    "print(f\"Train: {X_train.shape}, Val: {X_val.shape}, Test: {X_test.shape}\")"
   ]
  },
  {
   "cell_type": "code",
   "execution_count": 3,
   "metadata": {},
   "outputs": [
    {
     "name": "stdout",
     "output_type": "stream",
     "text": [
      "Training set: 17418\n",
      "Validation set: 2183\n",
      "Test set: 2198\n"
     ]
    }
   ],
   "source": [
    "# Use first 8 folds for training, fold 9 for validation, and fold 10 for testing\n",
    "X_train = X[np.where(Y.strat_fold < 9)]\n",
    "X_val = X[np.where(Y.strat_fold == 9)]\n",
    "X_test = X[np.where(Y.strat_fold == 10)]\n",
    "print(f\"Training set: {X_train.shape[0]}\")\n",
    "print(f\"Validation set: {X_val.shape[0]}\")\n",
    "print(f\"Test set: {X_test.shape[0]}\")"
   ]
  },
  {
   "cell_type": "code",
   "execution_count": 4,
   "metadata": {},
   "outputs": [
    {
     "name": "stdout",
     "output_type": "stream",
     "text": [
      "X_train shape: torch.Size([17418, 1000, 6])\n",
      "X_val shape: torch.Size([2183, 1000, 6])\n",
      "X_test shape: torch.Size([2198, 1000, 6])\n",
      "X_train shape: torch.Size([17418, 6, 1000])\n",
      "X_val shape: torch.Size([2183, 6, 1000])\n",
      "X_test shape: torch.Size([2198, 6, 1000])\n"
     ]
    }
   ],
   "source": [
    "# Convert to torch tensors\n",
    "X_train = torch.from_numpy(X_train).float()\n",
    "X_val = torch.from_numpy(X_val).float()\n",
    "X_test = torch.from_numpy(X_test).float()\n",
    "\n",
    "print(f\"X_train shape: {X_train.shape}\")\n",
    "print(f\"X_val shape: {X_val.shape}\")\n",
    "print(f\"X_test shape: {X_test.shape}\")\n",
    "\n",
    "# Reshape\n",
    "X_train = X_train.permute(0, 2, 1)\n",
    "X_val = X_val.permute(0, 2, 1)\n",
    "X_test = X_test.permute(0, 2, 1)\n",
    "\n",
    "print(f\"X_train shape: {X_train.shape}\")\n",
    "print(f\"X_val shape: {X_val.shape}\")\n",
    "print(f\"X_test shape: {X_test.shape}\")"
   ]
  },
  {
   "cell_type": "code",
   "execution_count": 5,
   "metadata": {},
   "outputs": [],
   "source": [
    "torch.save(X_train, \"data/ptb-xl/ptbxl_ecg_100_all_train.pt\")\n",
    "torch.save(X_val, \"data/ptb-xl/ptbxl_ecg_100_all_val.pt\")\n",
    "torch.save(X_test, \"data/ptb-xl/ptbxl_ecg_100_all_test.pt\")"
   ]
  },
  {
   "cell_type": "code",
   "execution_count": null,
   "metadata": {},
   "outputs": [],
   "source": [
    "# Load the data\n",
    "X_train = torch.load(\"data/ptb-xl/ptbxl_ecg_100_all_templates_train.pt\")\n",
    "X_val = torch.load(\"data/ptb-xl/ptbxl_ecg_100_all_templates_val.pt\")\n",
    "X_test = torch.load(\"data/ptb-xl/ptbxl_ecg_100_all_templates_test.pt\")\n"
   ]
  },
  {
   "cell_type": "code",
   "execution_count": 10,
   "metadata": {},
   "outputs": [
    {
     "name": "stderr",
     "output_type": "stream",
     "text": [
      "C:\\Users\\natem\\AppData\\Local\\Temp\\ipykernel_17820\\1446431463.py:2: UserWarning: To copy construct from a tensor, it is recommended to use sourceTensor.clone().detach() or sourceTensor.clone().detach().requires_grad_(True), rather than torch.tensor(sourceTensor).\n",
      "  X = torch.tensor(X, dtype=torch.float32)\n"
     ]
    },
    {
     "name": "stdout",
     "output_type": "stream",
     "text": [
      "torch.Size([21799, 6, 1000])\n"
     ]
    }
   ],
   "source": [
    "# Convert to PyTorch tensor\n",
    "X = torch.tensor(X, dtype=torch.float32)\n",
    "# Reshape to (N, 6, T)\n",
    "X = X.reshape(X.shape[0], 6, -1)\n",
    "print(X.shape)\n",
    "# Save to file\n",
    "torch.save(X, \"data/ptb-xl/ptbxl_ecg_100_all.pt\")"
   ]
  },
  {
   "cell_type": "code",
   "execution_count": 11,
   "metadata": {},
   "outputs": [
    {
     "name": "stdout",
     "output_type": "stream",
     "text": [
      "torch.Size([21799, 6, 1000])\n"
     ]
    }
   ],
   "source": [
    "# Load from file\n",
    "filename = \"data/ptb-xl/ptbxl_ecg_100_all.pt\"\n",
    "ecg_tensor = torch.load(filename)\n",
    "\n",
    "# Check the shape of the loaded tensor\n",
    "print(ecg_tensor.shape)  # Should be (N, 6, T)"
   ]
  },
  {
   "cell_type": "code",
   "execution_count": 12,
   "metadata": {},
   "outputs": [
    {
     "name": "stdout",
     "output_type": "stream",
     "text": [
      "Train dataset size: 17440\n",
      "Test dataset size: 4359\n"
     ]
    }
   ],
   "source": [
    "# Split into test set\n",
    "test_size = int(0.2 * len(ecg_tensor))  # 20% for testing\n",
    "train_size = len(ecg_tensor) - test_size  # Remaining for training\n",
    "\n",
    "train_dataset, test_dataset = random_split(ecg_tensor, [train_size, test_size])\n",
    "print(f\"Train dataset size: {len(train_dataset)}\")\n",
    "print(f\"Test dataset size: {len(test_dataset)}\")"
   ]
  },
  {
   "cell_type": "code",
   "execution_count": 13,
   "metadata": {},
   "outputs": [],
   "source": [
    "# Convert Subsets to Tensors\n",
    "train_dataset = torch.stack([train_dataset[i] for i in range(len(train_dataset))])\n",
    "test_dataset = torch.stack([test_dataset[i] for i in range(len(test_dataset))])\n",
    "\n",
    "# Save the split datasets\n",
    "torch.save(train_dataset, \"data/ptb-xl/ptbxl_ecg_100_all_train.pt\")\n",
    "torch.save(test_dataset, \"data/ptb-xl/ptbxl_ecg_100_all_test.pt\")"
   ]
  }
 ],
 "metadata": {
  "kernelspec": {
   "display_name": "env",
   "language": "python",
   "name": "python3"
  },
  "language_info": {
   "codemirror_mode": {
    "name": "ipython",
    "version": 3
   },
   "file_extension": ".py",
   "mimetype": "text/x-python",
   "name": "python",
   "nbconvert_exporter": "python",
   "pygments_lexer": "ipython3",
   "version": "3.10.6"
  }
 },
 "nbformat": 4,
 "nbformat_minor": 2
}
