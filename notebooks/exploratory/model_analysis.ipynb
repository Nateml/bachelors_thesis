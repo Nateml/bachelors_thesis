{
 "cells": [
  {
   "cell_type": "code",
   "execution_count": 1,
   "id": "df0bf027",
   "metadata": {},
   "outputs": [
    {
     "name": "stderr",
     "output_type": "stream",
     "text": [
      "\u001b[32m2025-04-14 14:16:34.612\u001b[0m | \u001b[1mINFO    \u001b[0m | \u001b[36mbachelors_thesis.config\u001b[0m:\u001b[36m<module>\u001b[0m:\u001b[36m11\u001b[0m - \u001b[1mPROJ_ROOT path is: C:\\Users\\natem\\bachelors_thesis\u001b[0m\n"
     ]
    }
   ],
   "source": [
    "import pandas as pd\n",
    "import numpy as np\n",
    "import torch\n",
    "import torch.nn as nn\n",
    "from torch.utils.data import DataLoader, Dataset\n",
    "from omegaconf import OmegaConf\n",
    "from bachelors_thesis.modeling.aura12 import AURA12, loss_step\n",
    "from bachelors_thesis.modeling.datasets.aura12_dataset import AURA12Dataset\n",
    "from bachelors_thesis.modeling.train import eval_loop\n",
    "import wandb"
   ]
  },
  {
   "cell_type": "code",
   "execution_count": 2,
   "id": "2f57ae02",
   "metadata": {},
   "outputs": [
    {
     "name": "stderr",
     "output_type": "stream",
     "text": [
      "wandb: Using wandb-core as the SDK backend.  Please refer to https://wandb.me/wandb-core for more information.\n",
      "wandb:   1 of 1 files downloaded.  \n"
     ]
    }
   ],
   "source": [
    "# Load the torch model from wandb\n",
    "api = wandb.Api()\n",
    "artifact = api.artifact(\"nateml-maastricht-university/bachelors-thesis/00_aura12_no_augment_best:best\")\n",
    "artifact_path = artifact.download()\n",
    "\n",
    "run = api.run(\"nateml-maastricht-university/bachelors-thesis/5m0ong1v\")\n",
    "config = dict(run.config)\n",
    "\n",
    "# Convert config to omegaconf\n",
    "cfg = OmegaConf.create(config)"
   ]
  },
  {
   "cell_type": "code",
   "execution_count": 3,
   "id": "0bf4672c",
   "metadata": {},
   "outputs": [
    {
     "data": {
      "text/plain": [
       "64"
      ]
     },
     "execution_count": 3,
     "metadata": {},
     "output_type": "execute_result"
    }
   ],
   "source": [
    "cfg.model.feature_dim"
   ]
  },
  {
   "cell_type": "code",
   "execution_count": 4,
   "id": "5ac1671c",
   "metadata": {},
   "outputs": [
    {
     "data": {
      "text/plain": [
       "AURA12(\n",
       "  (local_encoder): LocalEncoder(\n",
       "    (encoder): Sequential(\n",
       "      (0): Conv1d(1, 16, kernel_size=(12,), stride=(1,), padding=(3,))\n",
       "      (1): ReLU()\n",
       "      (2): Conv1d(16, 32, kernel_size=(7,), stride=(1,), padding=(2,))\n",
       "      (3): ReLU()\n",
       "      (4): Conv1d(32, 64, kernel_size=(5,), stride=(1,), padding=(1,))\n",
       "      (5): ReLU()\n",
       "      (6): Conv1d(64, 128, kernel_size=(3,), stride=(1,), padding=(1,))\n",
       "      (7): ReLU()\n",
       "      (8): AdaptiveAvgPool1d(output_size=1)\n",
       "      (9): Flatten(start_dim=1, end_dim=-1)\n",
       "      (10): Linear(in_features=128, out_features=64, bias=True)\n",
       "      (11): ReLU()\n",
       "    )\n",
       "  )\n",
       "  (context_encoder): DeepSetsContextEncoder(\n",
       "    (phi): Sequential(\n",
       "      (0): Linear(in_features=64, out_features=64, bias=True)\n",
       "      (1): ReLU()\n",
       "      (2): Linear(in_features=64, out_features=64, bias=True)\n",
       "      (3): ReLU()\n",
       "      (4): Linear(in_features=64, out_features=64, bias=True)\n",
       "      (5): ReLU()\n",
       "    )\n",
       "    (rho): Sequential(\n",
       "      (0): Linear(in_features=64, out_features=64, bias=True)\n",
       "      (1): ReLU()\n",
       "    )\n",
       "  )\n",
       "  (classifier): Classifier(\n",
       "    (classifier): Sequential(\n",
       "      (0): Linear(in_features=128, out_features=128, bias=True)\n",
       "      (1): ReLU()\n",
       "      (2): Linear(in_features=128, out_features=64, bias=True)\n",
       "      (3): ReLU()\n",
       "      (4): Linear(in_features=64, out_features=6, bias=True)\n",
       "    )\n",
       "  )\n",
       ")"
      ]
     },
     "execution_count": 4,
     "metadata": {},
     "output_type": "execute_result"
    }
   ],
   "source": [
    "# Load the model\n",
    "checkpoint = torch.load(artifact_path + \"/00_aura12_no_augment_best.pth\", map_location=torch.device('cpu'))\n",
    "\n",
    "# Cast the model to the correct type\n",
    "model = AURA12(cfg.model)\n",
    "model.load_state_dict(checkpoint)\n",
    "model.eval()"
   ]
  },
  {
   "cell_type": "code",
   "execution_count": 5,
   "id": "b39fde24",
   "metadata": {},
   "outputs": [
    {
     "name": "stdout",
     "output_type": "stream",
     "text": [
      "torch.Size([2183, 6, 1000])\n"
     ]
    }
   ],
   "source": [
    "# Load the validation data\n",
    "val_data = np.load('../../data/processed/ptbxl100all/val.npy')\n",
    "\n",
    "# Convert to tensor\n",
    "val_data = torch.from_numpy(val_data).float()\n",
    "\n",
    "# Reshape to (_, 6, 1000)\n",
    "val_data = val_data.view(-1, 6, 1000)\n",
    "print(val_data.shape)"
   ]
  },
  {
   "cell_type": "code",
   "execution_count": 6,
   "id": "69e76dc6",
   "metadata": {},
   "outputs": [],
   "source": [
    "# Create a dataloader for the validation data\n",
    "dataset = AURA12Dataset(val_data)\n",
    "dataloader = DataLoader(dataset, batch_size=64, shuffle=False)"
   ]
  },
  {
   "cell_type": "code",
   "execution_count": 7,
   "id": "c2422b06",
   "metadata": {},
   "outputs": [
    {
     "data": {
      "text/plain": [
       "tensor([[[-0.1082, -0.8566, -1.4491,  1.1923,  1.7716,  0.6010],\n",
       "         [-0.1473, -0.9058, -1.3754,  1.2880,  1.7701,  0.4948],\n",
       "         [ 4.8701,  1.0972, -0.7622, -0.8686, -1.6220, -1.6136],\n",
       "         [ 2.4167,  0.8945, -0.2047,  0.2948, -0.8549, -1.5701],\n",
       "         [-0.4021, -0.3467, -0.2823,  1.6227,  0.5925, -1.0697],\n",
       "         [ 0.0417, -1.3956, -2.2873,  1.1925,  2.7562,  1.4731]],\n",
       "\n",
       "        [[-0.0870, -1.0036, -0.8614,  2.3195,  0.8178, -0.4081],\n",
       "         [ 0.0232, -1.0169, -1.0948,  2.0364,  1.0617, -0.0791],\n",
       "         [-0.1777, -0.0290,  1.0447,  2.0902, -1.0157, -2.0982],\n",
       "         [ 4.7142,  1.1624, -0.4188, -0.4430, -1.6656, -1.6141],\n",
       "         [ 3.6742,  0.5725, -0.3652,  0.2880, -1.1453, -1.3682],\n",
       "         [ 0.2529, -1.7659, -2.5963,  2.4564,  2.3705,  1.3712]],\n",
       "\n",
       "        [[ 0.0760,  0.3902,  1.4449, -0.5731, -3.6273,  0.0806],\n",
       "         [ 4.9253, -1.5916, -2.6833,  0.4687,  0.4050, -0.1209],\n",
       "         [ 4.7431, -1.5500, -2.5299,  0.5409,  0.3196, -0.2647],\n",
       "         [ 1.5577, -0.7915, -0.7758,  1.5017,  0.0406, -1.6368],\n",
       "         [-1.0294, -1.5735, -1.6720,  1.5982,  2.7383,  0.5317],\n",
       "         [ 1.1742, -1.0441, -1.2411,  1.8031,  0.5718, -1.1263]],\n",
       "\n",
       "        ...,\n",
       "\n",
       "        [[ 0.3364, -0.2420, -0.5466,  1.4163,  0.6019, -0.7952],\n",
       "         [-2.2238, -1.0208,  0.7323,  2.1226,  1.0514, -0.9264],\n",
       "         [ 4.1274, -0.7965, -1.3648,  0.1434, -0.1955, -0.7032],\n",
       "         [-2.2863, -1.2318,  0.4611,  2.1757,  1.4329, -0.6703],\n",
       "         [ 2.8609, -0.5847, -1.2829,  0.6535,  0.1900, -0.6504],\n",
       "         [-2.2525, -0.9806,  1.1408,  1.9837,  0.6367, -1.0299]],\n",
       "\n",
       "        [[ 0.5907, -0.9230, -0.3210,  2.2911,  0.0206, -1.0239],\n",
       "         [ 0.5430, -0.8502, -0.0937,  2.4239, -0.2514, -1.2491],\n",
       "         [ 0.7232, -0.7394,  0.1462,  2.2080, -0.4444, -1.3926],\n",
       "         [ 0.8346, -0.8089,  0.1405,  2.1935, -0.3989, -1.4223],\n",
       "         [ 0.5781, -0.8926, -0.2409,  2.3246, -0.0872, -1.0565],\n",
       "         [ 0.6295, -0.8017, -0.0604,  2.2430, -0.2324, -1.2511]],\n",
       "\n",
       "        [[ 0.4624, -1.3255, -1.0668,  2.4890,  0.7145, -0.4601],\n",
       "         [ 0.4225, -0.8477, -0.0436,  2.5128, -0.3257, -1.3656],\n",
       "         [ 0.4687, -0.5923,  0.3284,  2.2503, -0.6669, -1.6017],\n",
       "         [ 2.1324, -1.2305, -0.8572,  1.7693,  0.2953, -0.7592],\n",
       "         [ 0.8625, -0.6225,  0.4578,  2.1417, -0.8004, -1.7461],\n",
       "         [ 0.4908, -0.9281, -0.3112,  2.4024, -0.0066, -1.1580]]])"
      ]
     },
     "execution_count": 7,
     "metadata": {},
     "output_type": "execute_result"
    }
   ],
   "source": [
    "preds = model.predict(val_data)\n",
    "preds"
   ]
  },
  {
   "cell_type": "code",
   "execution_count": null,
   "id": "cff59bc8",
   "metadata": {},
   "outputs": [],
   "source": []
  }
 ],
 "metadata": {
  "kernelspec": {
   "display_name": "env",
   "language": "python",
   "name": "python3"
  },
  "language_info": {
   "codemirror_mode": {
    "name": "ipython",
    "version": 3
   },
   "file_extension": ".py",
   "mimetype": "text/x-python",
   "name": "python",
   "nbconvert_exporter": "python",
   "pygments_lexer": "ipython3",
   "version": "3.10.6"
  }
 },
 "nbformat": 4,
 "nbformat_minor": 5
}
